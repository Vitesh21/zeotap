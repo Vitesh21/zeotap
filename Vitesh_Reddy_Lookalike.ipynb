{
  "nbformat": 4,
  "nbformat_minor": 0,
  "metadata": {
    "colab": {
      "provenance": []
    },
    "kernelspec": {
      "name": "python3",
      "display_name": "Python 3"
    },
    "language_info": {
      "name": "python"
    }
  },
  "cells": [
    {
      "cell_type": "code",
      "execution_count": 1,
      "metadata": {
        "id": "CJOBUg28bTM_"
      },
      "outputs": [],
      "source": [
        "import pandas as pd\n",
        "from sklearn.neighbors import NearestNeighbors\n",
        "from sklearn.preprocessing import StandardScaler, OneHotEncoder\n",
        "from sklearn.compose import ColumnTransformer\n",
        "\n",
        "# Load customer and transaction data\n",
        "customers = pd.read_csv(\"Customers.csv\")\n",
        "transactions = pd.read_csv(\"Transactions.csv\")\n",
        "\n",
        "# Feature Engineering\n",
        "customer_features = customers.copy()\n",
        "customer_features['SignupDuration'] = (pd.Timestamp.now() - pd.to_datetime(customer_features['SignupDate'])).dt.days\n",
        "\n",
        "customer_features = customer_features.merge(\n",
        "    transactions.groupby('CustomerID').agg(\n",
        "        TotalTransactions=('TransactionID', 'count'),\n",
        "        TotalSpent=('TotalValue', 'sum')\n",
        "    ), on='CustomerID', how='left'\n",
        ").fillna(0)  # Fill missing transaction data with 0\n",
        "\n",
        "# Encode and Scale\n",
        "preprocessor = ColumnTransformer(\n",
        "    transformers=[\n",
        "        ('cat', OneHotEncoder(), ['Region']),\n",
        "        ('num', StandardScaler(), ['SignupDuration', 'TotalTransactions', 'TotalSpent'])\n",
        "    ])\n",
        "X = preprocessor.fit_transform(customer_features)\n",
        "\n",
        "# Fit NearestNeighbors model\n",
        "model = NearestNeighbors(n_neighbors=4, metric='cosine')\n",
        "model.fit(X)\n",
        "\n",
        "# Generate lookalikes for first 20 customers\n",
        "lookalikes = {}\n",
        "for cust_id in customer_features['CustomerID'].iloc[:20]:\n",
        "    idx = customer_features[customer_features['CustomerID'] == cust_id].index[0]\n",
        "    distances, indices = model.kneighbors(X[idx].reshape(1, -1))  # Fix: Reshape input to 2D\n",
        "    similar_customers = customer_features.iloc[indices[0][1:4], 0]  # Exclude self, take top 3\n",
        "    scores = (1 - distances[0][1:4]).round(3)  # Convert distance to similarity\n",
        "    lookalikes[cust_id] = list(zip(similar_customers, scores))\n",
        "\n",
        "# Save to CSV\n",
        "lookalike_df = pd.DataFrame({\n",
        "    'CustomerID': lookalikes.keys(),\n",
        "    'Lookalikes': lookalikes.values()\n",
        "})\n",
        "lookalike_df.to_csv('Lookalike.csv', index=False)\n"
      ]
    },
    {
      "cell_type": "code",
      "source": [],
      "metadata": {
        "id": "GrNOLUBMbegn"
      },
      "execution_count": null,
      "outputs": []
    }
  ]
}